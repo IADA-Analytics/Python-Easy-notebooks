{
 "cells": [
  {
   "cell_type": "markdown",
   "metadata": {},
   "source": [
    "<h1><center>Institute of Applied Data Analytics(IADA)</center></h1>\n",
    "<img src=\"//img1.wsimg.com/isteam/ip/24deaaed-7979-4ab6-a1f2-82ea2f254c5a/favicon/e4e818e5-b32d-4466-be8e-6ae3702120ac.png/:/rs=w:144,h:144,m\"/>\n",
    "\n",
    "\n",
    "****"
   ]
  },
  {
   "cell_type": "markdown",
   "metadata": {},
   "source": [
    "# First session on Python : Markdown\n",
    "***\n",
    "***\n",
    "\n",
    "# Heading 1\n",
    "## Heading 2\n",
    "\n",
    "### Heading 3\n",
    "#### Heading4\n",
    "\n",
    "\n",
    "**Bold**\n",
    "\n",
    "*Italic*\n",
    "\n",
    "*Run a markdown cell or a code cell : press shift+Enter*\n",
    "\n",
    "To convert a default code cell to a markdown: press Esc + M\n",
    "\n",
    "Executing a code : Shift + Enter or Alt+ Enter\n",
    "\n",
    "To enter a cell below the current cell after executing: press alt+enter\n",
    "\n",
    "To delete a cell using keyboard: press esc+ dd\n",
    "\n",
    "To enter a new cell  below: ESC+B\n",
    "To enter a new cell above : ESC+A\n",
    "Start writing in a cell after selection : ENTER\n",
    "\n",
    "- For creating bullet points\n",
    "\n",
    "To get the keyboard shortcut: help and keyboard shortcuts\n"
   ]
  },
  {
   "cell_type": "markdown",
   "metadata": {},
   "source": [
    "## What is Python?\n",
    "Python is an object-oriented programming language created by Guido Rossum in 1989. It is ideally designed for rapid prototyping of complex applications. It has interfaces to many OS system calls and libraries and is extensible to C or C++. Many large companies use the Python programming language include NASA, Google, YouTube, BitTorrent, etc.\n",
    "\n",
    "Python programming is widely used in Artificial Intelligence, Natural Language Generation, Neural Networks and other advanced fields of Computer Science. Python had deep focus on code readability & this class will teach you python from basics."
   ]
  },
  {
   "cell_type": "markdown",
   "metadata": {},
   "source": [
    "We are going to learn : 1) Basics of core python programming & 2) Data science related API's ( Numpy,Pandas, Matplotlip , Scikit Learn, Tensor Flow)"
   ]
  },
  {
   "cell_type": "markdown",
   "metadata": {},
   "source": [
    "- Step1: Python Objects: list, tuple,dictionary , \n",
    "- Step2: Numpy( array), Pandas ( series and data frame)\n",
    "- Step3: Importing data sets and learn staistics\n",
    "- Step4: Matplotlib visualization\n",
    "- Step5: ML model development using real data\n",
    "- Step6: Overview on NLP, Deeplearning and Computer vision\n",
    "- Step7: Implementing ML models"
   ]
  },
  {
   "cell_type": "markdown",
   "metadata": {},
   "source": [
    "### Basics of Python"
   ]
  },
  {
   "cell_type": "code",
   "execution_count": 3,
   "metadata": {},
   "outputs": [
    {
     "data": {
      "text/plain": [
       "7"
      ]
     },
     "execution_count": 3,
     "metadata": {},
     "output_type": "execute_result"
    }
   ],
   "source": [
    "2+5"
   ]
  },
  {
   "cell_type": "code",
   "execution_count": 4,
   "metadata": {},
   "outputs": [
    {
     "data": {
      "text/plain": [
       "16"
      ]
     },
     "execution_count": 4,
     "metadata": {},
     "output_type": "execute_result"
    }
   ],
   "source": [
    "2*8"
   ]
  },
  {
   "cell_type": "code",
   "execution_count": 5,
   "metadata": {},
   "outputs": [
    {
     "data": {
      "text/plain": [
       "0.25"
      ]
     },
     "execution_count": 5,
     "metadata": {},
     "output_type": "execute_result"
    }
   ],
   "source": [
    "2/8"
   ]
  },
  {
   "cell_type": "code",
   "execution_count": 6,
   "metadata": {},
   "outputs": [
    {
     "data": {
      "text/plain": [
       "2.6666666666666665"
      ]
     },
     "execution_count": 6,
     "metadata": {},
     "output_type": "execute_result"
    }
   ],
   "source": [
    "8/3"
   ]
  },
  {
   "cell_type": "code",
   "execution_count": 8,
   "metadata": {},
   "outputs": [
    {
     "data": {
      "text/plain": [
       "2"
      ]
     },
     "execution_count": 8,
     "metadata": {},
     "output_type": "execute_result"
    }
   ],
   "source": [
    "int(8/3)"
   ]
  },
  {
   "cell_type": "code",
   "execution_count": 9,
   "metadata": {},
   "outputs": [
    {
     "data": {
      "text/plain": [
       "16"
      ]
     },
     "execution_count": 9,
     "metadata": {},
     "output_type": "execute_result"
    }
   ],
   "source": [
    "2**4"
   ]
  },
  {
   "cell_type": "code",
   "execution_count": 10,
   "metadata": {},
   "outputs": [
    {
     "name": "stdout",
     "output_type": "stream",
     "text": [
      "My name is: Inesh\n"
     ]
    }
   ],
   "source": [
    "print('My name is: Inesh')"
   ]
  },
  {
   "cell_type": "markdown",
   "metadata": {},
   "source": [
    "Python is case sensitive "
   ]
  },
  {
   "cell_type": "markdown",
   "metadata": {},
   "source": [
    "## What is a Variable in Python?\n",
    "\n",
    "A Python variable is a reserved memory location to store values. In other words, a variable in a python program gives data to the computer for processing.\n",
    "\n",
    "Every value in Python has a datatype. Different data types in Python are Numbers, List, Tuple, Strings, Dictionary, etc. Variables can be declared by any name or even alphabets like a, aa, abc, etc.\n",
    "\n",
    "Variable type: No declaration is required.\n",
    "- Integer\n",
    "- Strings\n",
    "- Boolean\n",
    "- Complex numbers\n",
    "- Float\n"
   ]
  },
  {
   "cell_type": "code",
   "execution_count": 11,
   "metadata": {},
   "outputs": [
    {
     "name": "stdout",
     "output_type": "stream",
     "text": [
      "2\n",
      "10\n"
     ]
    }
   ],
   "source": [
    "# Assigning new variables in Python\n",
    "a=2\n",
    "b=5\n",
    "print(a)\n",
    "\n",
    "# Withn print function use of oprations\n",
    "print(b*2)"
   ]
  },
  {
   "cell_type": "code",
   "execution_count": 12,
   "metadata": {},
   "outputs": [
    {
     "name": "stdout",
     "output_type": "stream",
     "text": [
      "python lession\n"
     ]
    }
   ],
   "source": [
    "# Assigning string variables in Python\n",
    "char=\"python lession\"\n",
    "print(char)"
   ]
  },
  {
   "cell_type": "code",
   "execution_count": 13,
   "metadata": {},
   "outputs": [
    {
     "data": {
      "text/plain": [
       "str"
      ]
     },
     "execution_count": 13,
     "metadata": {},
     "output_type": "execute_result"
    }
   ],
   "source": [
    "type(char)"
   ]
  },
  {
   "cell_type": "code",
   "execution_count": 14,
   "metadata": {},
   "outputs": [
    {
     "name": "stdout",
     "output_type": "stream",
     "text": [
      "4365854208\n",
      "4365854208\n"
     ]
    }
   ],
   "source": [
    "# Locating the memory location of the variables\n",
    "a=4\n",
    "b=4\n",
    "# Within print statement the core python fuctions can be used\n",
    "print(id(a))\n",
    "print(id(b))"
   ]
  },
  {
   "cell_type": "code",
   "execution_count": 18,
   "metadata": {},
   "outputs": [
    {
     "name": "stdout",
     "output_type": "stream",
     "text": [
      "0\n",
      "<class 'int'>\n",
      "guru99\n",
      "<class 'str'>\n"
     ]
    }
   ],
   "source": [
    "# Declare a variable and initialize it\n",
    "f = 0\n",
    "print(f)\n",
    "print(type(f))\n",
    "\n",
    "# re-declaring the variable works even the variable is of different type\n",
    "f = 'guru99'\n",
    "\n",
    "print(f)\n",
    "\n",
    "# Using a function type to know the variable type\n",
    "\n",
    "print(type(f))"
   ]
  },
  {
   "cell_type": "code",
   "execution_count": 19,
   "metadata": {},
   "outputs": [
    {
     "name": "stdout",
     "output_type": "stream",
     "text": [
      "102.23\n",
      "Guru12399\n",
      "Guru1233.23\n",
      "Guru12399\n",
      "Guru123Guru123\n",
      "Guru123Guru123Guru123\n"
     ]
    }
   ],
   "source": [
    "# Doing operations on both int/numeric variables and string variable\n",
    "\n",
    "\n",
    "# Declaring the variables\n",
    "string=\"Guru123\"\n",
    "b = 99\n",
    "c=3.23\n",
    "\n",
    "print(b+c)\n",
    "\n",
    "# Doing operations: str() converts a intiger into a string type\n",
    "print(string+str(b))\n",
    "print(string+str(c))\n",
    "\n",
    "# operation on the strings\n",
    "print(string+str(b))\n",
    "print(string+string)\n",
    "print(string*3)\n"
   ]
  },
  {
   "cell_type": "code",
   "execution_count": 21,
   "metadata": {},
   "outputs": [
    {
     "name": "stdout",
     "output_type": "stream",
     "text": [
      "101\n",
      "Out of the function\n",
      "6\n",
      "I am learning Python\n",
      "I am learning PythonI am learning PythonI am learning Python\n",
      "101\n",
      "4365857312\n"
     ]
    }
   ],
   "source": [
    "# Variables are of two type : Use of variables or position of variable\n",
    "\n",
    "# Global variable\n",
    "# Local variable\n",
    "\n",
    "# Declare a variable and initialize it\n",
    "var1 = 101\n",
    "print (var1)\n",
    "# Global vs. local variables in functions\n",
    "def Newfunction(x):\n",
    "    p=x*2\n",
    "    print(p)\n",
    "    # Local variable\n",
    "    var1 = 'I am learning Python'\n",
    "    print (var1)\n",
    "    print(var1*x)\n",
    "    \n",
    "print('Out of the function')\n",
    "    \n",
    "Newfunction(3)\n",
    "\n",
    "print (var1)\n",
    "print(id(var1))"
   ]
  },
  {
   "cell_type": "code",
   "execution_count": 22,
   "metadata": {},
   "outputs": [
    {
     "name": "stdout",
     "output_type": "stream",
     "text": [
      "11\n"
     ]
    },
    {
     "ename": "NameError",
     "evalue": "name 'var' is not defined",
     "output_type": "error",
     "traceback": [
      "\u001b[0;31m---------------------------------------------------------------------------\u001b[0m",
      "\u001b[0;31mNameError\u001b[0m                                 Traceback (most recent call last)",
      "\u001b[0;32m<ipython-input-22-7ae5e4b5b150>\u001b[0m in \u001b[0;36m<module>\u001b[0;34m\u001b[0m\n\u001b[1;32m      7\u001b[0m \u001b[0;32mdel\u001b[0m \u001b[0mvar\u001b[0m\u001b[0;34m\u001b[0m\u001b[0;34m\u001b[0m\u001b[0m\n\u001b[1;32m      8\u001b[0m \u001b[0;34m\u001b[0m\u001b[0m\n\u001b[0;32m----> 9\u001b[0;31m \u001b[0mprint\u001b[0m\u001b[0;34m(\u001b[0m\u001b[0mvar\u001b[0m\u001b[0;34m)\u001b[0m\u001b[0;34m\u001b[0m\u001b[0;34m\u001b[0m\u001b[0m\n\u001b[0m",
      "\u001b[0;31mNameError\u001b[0m: name 'var' is not defined"
     ]
    }
   ],
   "source": [
    "# Delete a variable manually\n",
    "\n",
    "var = 11;\n",
    "print(var)\n",
    "\n",
    "# Keyword del to delete a variable permanently from the memory location\n",
    "del var\n",
    "\n",
    "print(var)"
   ]
  },
  {
   "cell_type": "markdown",
   "metadata": {},
   "source": [
    "#### Extracting character from a string"
   ]
  },
  {
   "cell_type": "code",
   "execution_count": 29,
   "metadata": {},
   "outputs": [
    {
     "name": "stdout",
     "output_type": "stream",
     "text": [
      "p\n",
      "a\n",
      "python c\n",
      "hon class 101\n"
     ]
    }
   ],
   "source": [
    "var='python class 101'\n",
    "print(var[0])\n",
    "print(var[-7])\n",
    "print (var[:8])\n",
    "print(var[3:])"
   ]
  },
  {
   "cell_type": "markdown",
   "metadata": {},
   "source": [
    "## Practice"
   ]
  },
  {
   "cell_type": "code",
   "execution_count": 1,
   "metadata": {},
   "outputs": [
    {
     "name": "stdout",
     "output_type": "stream",
     "text": [
      "var1[0]: G\n",
      "var2[1:5]: oftw\n",
      "Hello \n",
      "Hello Guru99\n",
      "I love Guru99\n",
      "PYTHON AT GURU99\n",
      "Python at guru99\n",
      "python at guru99\n",
      "P:y:t:h:o:n\n",
      "54321\n",
      "['guru99', 'career', 'guru99']\n",
      "['gu', 'u99 ca', 'ee', ' gu', 'u99']\n",
      "Guru99\n",
      "Python\n"
     ]
    }
   ],
   "source": [
    "#Accessing Values in Strings\n",
    "var1 = \"Guru99!\"\n",
    "var2 = \"Software Testing\"\n",
    "print (\"var1[0]:\",var1[0])\n",
    "print (\"var2[1:5]:\",var2[1:5])\n",
    "#Some more examples\n",
    "x = \"Hello World!\"\n",
    "print (x[:6]) \n",
    "print (x[0:6] + \"Guru99\")\n",
    "#Python String replace() Method\n",
    "oldstring = 'I like Guru99' \n",
    "newstring = oldstring.replace('like', 'love')\n",
    "print (newstring)\n",
    "#Changing upper and lower case strings\n",
    "string=\"python at guru99\"\n",
    "print (string.upper())\n",
    "string=\"python at guru99\"\n",
    "print (string.capitalize())\n",
    "string=\"PYTHON AT GURU99\"\n",
    "print (string.lower())\n",
    "#Using \"join\" function for the string\n",
    "print (\":\".join(\"Python\"))\n",
    "#Reversing String\n",
    "string=\"12345\"\n",
    "print (''.join(reversed(string)))\n",
    "#Split Strings\n",
    "word=\"guru99 career guru99\"\n",
    "print (word.split(' '))\n",
    "word=\"guru99 career guru99\"\n",
    "print (word.split('r'))\n",
    "x = \"Guru99\"\n",
    "x.replace(\"Guru99\",\"Python\")\n",
    "print (x)\n",
    "x = \"Guru99\"\n",
    "x = x.replace(\"Guru99\",\"Python\")\n",
    "print (x)"
   ]
  },
  {
   "cell_type": "code",
   "execution_count": 7,
   "metadata": {},
   "outputs": [
    {
     "data": {
      "text/plain": [
       "'I love Guru99'"
      ]
     },
     "execution_count": 7,
     "metadata": {},
     "output_type": "execute_result"
    }
   ],
   "source": [
    "oldstring = 'I like Guru99' \n",
    "newstring = oldstring.replace('like', 'love')\n",
    "newstring"
   ]
  },
  {
   "cell_type": "code",
   "execution_count": 2,
   "metadata": {},
   "outputs": [
    {
     "name": "stdout",
     "output_type": "stream",
     "text": [
      "PYTHON AT GURU99\n"
     ]
    }
   ],
   "source": [
    "#Changing upper and lower case strings\n",
    "string=\"python at guru99\"\n",
    "print (string.upper())"
   ]
  },
  {
   "cell_type": "markdown",
   "metadata": {},
   "source": [
    "## Data type in Python\n",
    "\n",
    "### Different objects in Python are as follows:\n",
    "\n",
    "    1. Tuple\n",
    "    2. List\n",
    "    3. Dictionary\n",
    "    \n",
    "    Numpy:\n",
    "    4. Arrays\n",
    "    \n",
    "    Panda:\n",
    "    \n",
    "    5. Series\n",
    "    6. Data Frame"
   ]
  },
  {
   "cell_type": "code",
   "execution_count": 32,
   "metadata": {},
   "outputs": [
    {
     "name": "stdout",
     "output_type": "stream",
     "text": [
      "<class 'tuple'>\n"
     ]
    }
   ],
   "source": [
    "# Score of students in standard 6\n",
    "# A tuple can contain integer value, Float value or String value\n",
    "#Tuple starts with open bracket\n",
    "\n",
    "Score_Std6=(30,45,67,89,100,56,87.02,34,56.7,90,'Ravi','Ram','Sandhya')\n",
    "print(type(Score_Std6))\n"
   ]
  },
  {
   "cell_type": "code",
   "execution_count": 33,
   "metadata": {},
   "outputs": [
    {
     "name": "stdout",
     "output_type": "stream",
     "text": [
      "(30, 45, 67, 89, 100, 56, 87.02, 34, 56.7, 90, 'Ravi', 'Ram', 'Sandhya')\n"
     ]
    }
   ],
   "source": [
    "print(Score_Std6)"
   ]
  },
  {
   "cell_type": "code",
   "execution_count": 34,
   "metadata": {},
   "outputs": [
    {
     "name": "stdout",
     "output_type": "stream",
     "text": [
      "(56, 87.02, 34, 56.7)\n",
      "(89, 100, 56, 87.02, 34, 56.7, 90, 'Ravi', 'Ram', 'Sandhya')\n"
     ]
    }
   ],
   "source": [
    "# Extract the score of the student whose roll numbers are 6,7,8,9\n",
    "# In python the first value is 0th value\n",
    "print(Score_Std6[5:9])\n",
    "print(Score_Std6[3:])"
   ]
  },
  {
   "cell_type": "code",
   "execution_count": 35,
   "metadata": {},
   "outputs": [
    {
     "data": {
      "text/plain": [
       "(56, 87.02, 34, 56.7, 90, 'Ravi', 'Ram', 'Sandhya')"
      ]
     },
     "execution_count": 35,
     "metadata": {},
     "output_type": "execute_result"
    }
   ],
   "source": [
    "# Extract the score of the student whose roll numbers are grater than 4\n",
    "Score_Std6[5:]"
   ]
  },
  {
   "cell_type": "code",
   "execution_count": 36,
   "metadata": {},
   "outputs": [
    {
     "data": {
      "text/plain": [
       "(30, 45, 67, 89, 100, 56)"
      ]
     },
     "execution_count": 36,
     "metadata": {},
     "output_type": "execute_result"
    }
   ],
   "source": [
    "# Extract the score of the student whose roll numbers are lesser tha 6\n",
    "Score_Std6[:6]"
   ]
  },
  {
   "cell_type": "code",
   "execution_count": 37,
   "metadata": {},
   "outputs": [
    {
     "data": {
      "text/plain": [
       "30"
      ]
     },
     "execution_count": 37,
     "metadata": {},
     "output_type": "execute_result"
    }
   ],
   "source": [
    "# Accessing the elements in a tuple\n",
    "# Python starts the count from 0, i.e the first position in a tuple is 0\n",
    "Score_Std6[0]"
   ]
  },
  {
   "cell_type": "code",
   "execution_count": 38,
   "metadata": {},
   "outputs": [
    {
     "data": {
      "text/plain": [
       "(30, 45, 67, 89, 100, 56, 87, 34, 56, 90)"
      ]
     },
     "execution_count": 38,
     "metadata": {},
     "output_type": "execute_result"
    }
   ],
   "source": [
    "# There is a mistake for the student with roll number 2. The score should have been 46 rather than 45\n",
    "Score_Std6=(30,45,67,89,100,56,87,34,56,90)\n",
    "Score_Std6"
   ]
  },
  {
   "cell_type": "code",
   "execution_count": 39,
   "metadata": {},
   "outputs": [
    {
     "data": {
      "text/plain": [
       "45"
      ]
     },
     "execution_count": 39,
     "metadata": {},
     "output_type": "execute_result"
    }
   ],
   "source": [
    "Score_Std6[1]"
   ]
  },
  {
   "cell_type": "code",
   "execution_count": 40,
   "metadata": {},
   "outputs": [
    {
     "ename": "TypeError",
     "evalue": "'tuple' object does not support item assignment",
     "output_type": "error",
     "traceback": [
      "\u001b[0;31m---------------------------------------------------------------------------\u001b[0m",
      "\u001b[0;31mTypeError\u001b[0m                                 Traceback (most recent call last)",
      "\u001b[0;32m<ipython-input-40-1ff8ae4f543b>\u001b[0m in \u001b[0;36m<module>\u001b[0;34m\u001b[0m\n\u001b[0;32m----> 1\u001b[0;31m \u001b[0mScore_Std6\u001b[0m\u001b[0;34m[\u001b[0m\u001b[0;36m1\u001b[0m\u001b[0;34m]\u001b[0m\u001b[0;34m=\u001b[0m\u001b[0;36m46\u001b[0m\u001b[0;34m\u001b[0m\u001b[0;34m\u001b[0m\u001b[0m\n\u001b[0m\u001b[1;32m      2\u001b[0m \u001b[0mScore_Std6\u001b[0m\u001b[0;34m\u001b[0m\u001b[0;34m\u001b[0m\u001b[0m\n",
      "\u001b[0;31mTypeError\u001b[0m: 'tuple' object does not support item assignment"
     ]
    }
   ],
   "source": [
    "Score_Std6[1]=46\n",
    "Score_Std6"
   ]
  },
  {
   "cell_type": "code",
   "execution_count": 30,
   "metadata": {},
   "outputs": [],
   "source": [
    "number_movies=(2,3,6,8,9,12,45,68,100,'abc')"
   ]
  },
  {
   "cell_type": "code",
   "execution_count": 33,
   "metadata": {},
   "outputs": [
    {
     "data": {
      "text/plain": [
       "'abc'"
      ]
     },
     "execution_count": 33,
     "metadata": {},
     "output_type": "execute_result"
    }
   ],
   "source": [
    "number_movies[9].upper().lower()"
   ]
  },
  {
   "cell_type": "code",
   "execution_count": 60,
   "metadata": {},
   "outputs": [
    {
     "data": {
      "text/plain": [
       "6"
      ]
     },
     "execution_count": 60,
     "metadata": {},
     "output_type": "execute_result"
    }
   ],
   "source": [
    "number_movies[2]"
   ]
  },
  {
   "cell_type": "code",
   "execution_count": 61,
   "metadata": {},
   "outputs": [
    {
     "data": {
      "text/plain": [
       "(2, 3, 6)"
      ]
     },
     "execution_count": 61,
     "metadata": {},
     "output_type": "execute_result"
    }
   ],
   "source": [
    "number_movies[:3]"
   ]
  },
  {
   "cell_type": "code",
   "execution_count": 34,
   "metadata": {},
   "outputs": [
    {
     "data": {
      "text/plain": [
       "int"
      ]
     },
     "execution_count": 34,
     "metadata": {},
     "output_type": "execute_result"
    }
   ],
   "source": [
    "# Adding the values in a tuple works simmilar to the normal addition function\n",
    "Tot_movies_2_3= number_movies[2]+ number_movies[3]\n",
    "type(number_movies[2])"
   ]
  },
  {
   "cell_type": "code",
   "execution_count": 35,
   "metadata": {},
   "outputs": [
    {
     "name": "stdout",
     "output_type": "stream",
     "text": [
      "18\n"
     ]
    }
   ],
   "source": [
    "# Multiplication function works nomally when we use one element of a tuple\n",
    "x=number_movies[2]*3\n",
    "print(x)"
   ]
  },
  {
   "cell_type": "code",
   "execution_count": 36,
   "metadata": {},
   "outputs": [
    {
     "name": "stdout",
     "output_type": "stream",
     "text": [
      "(2, 3, 6, 8, 9, 12, 45, 68, 100, 'abc')\n",
      "<class 'tuple'>\n",
      "(2, 3, 6, 8, 9, 12, 45, 68, 100, 'abc', 2, 3, 6, 8, 9, 12, 45, 68, 100, 'abc', 2, 3, 6, 8, 9, 12, 45, 68, 100, 'abc')\n"
     ]
    }
   ],
   "source": [
    "print(number_movies)\n",
    "print(type(number_movies))\n",
    "\n",
    "x=number_movies*3\n",
    "\n",
    "print(x)"
   ]
  },
  {
   "cell_type": "code",
   "execution_count": 37,
   "metadata": {},
   "outputs": [
    {
     "data": {
      "text/plain": [
       "(2, 5, 7, 34, 5, 7, 68, 12, 23)"
      ]
     },
     "execution_count": 37,
     "metadata": {},
     "output_type": "execute_result"
    }
   ],
   "source": [
    "number_story=(2,5,7,34,5,7,68,12,23)\n",
    "number_story"
   ]
  },
  {
   "cell_type": "code",
   "execution_count": 38,
   "metadata": {},
   "outputs": [
    {
     "name": "stdout",
     "output_type": "stream",
     "text": [
      "(2, 3, 6, 8, 9, 12, 45, 68, 100, 'abc', 2, 5, 7, 34, 5, 7, 68, 12, 23)\n"
     ]
    }
   ],
   "source": [
    "print(number_movies+number_story)"
   ]
  },
  {
   "cell_type": "markdown",
   "metadata": {},
   "source": [
    "### List\n",
    "\n",
    "List is another type of python object where we can reassign the values "
   ]
  },
  {
   "cell_type": "code",
   "execution_count": 1,
   "metadata": {},
   "outputs": [
    {
     "name": "stdout",
     "output_type": "stream",
     "text": [
      "[1, 2, 3, 'abc']\n"
     ]
    }
   ],
   "source": [
    "a=[1,2,3,'abc']\n",
    "print(a)"
   ]
  },
  {
   "cell_type": "code",
   "execution_count": 2,
   "metadata": {},
   "outputs": [
    {
     "data": {
      "text/plain": [
       "list"
      ]
     },
     "execution_count": 2,
     "metadata": {},
     "output_type": "execute_result"
    }
   ],
   "source": [
    "type(a)"
   ]
  },
  {
   "cell_type": "code",
   "execution_count": 4,
   "metadata": {},
   "outputs": [
    {
     "data": {
      "text/plain": [
       "['name', 'sk', 56, 43.0, None, 'morning']"
      ]
     },
     "execution_count": 4,
     "metadata": {},
     "output_type": "execute_result"
    }
   ],
   "source": [
    "# Different data types can be part of a list\n",
    "b=[\"name\",\"sk\",56,43.0,None,'morning']\n",
    "b"
   ]
  },
  {
   "cell_type": "code",
   "execution_count": 5,
   "metadata": {},
   "outputs": [
    {
     "data": {
      "text/plain": [
       "2408.0"
      ]
     },
     "execution_count": 5,
     "metadata": {},
     "output_type": "execute_result"
    }
   ],
   "source": [
    "x=b[2]*b[3]\n",
    "x"
   ]
  },
  {
   "cell_type": "code",
   "execution_count": 6,
   "metadata": {},
   "outputs": [
    {
     "name": "stdout",
     "output_type": "stream",
     "text": [
      "['sk', 56]\n",
      "['name', 'sk', 56]\n",
      "['sk', 56, 43.0, None, 'morning']\n"
     ]
    }
   ],
   "source": [
    "# Extraction of elements from a list works simillar to a tuple\n",
    "print(b[1:3])\n",
    "print(b[:3])\n",
    "print(b[1:])\n"
   ]
  },
  {
   "cell_type": "code",
   "execution_count": 7,
   "metadata": {},
   "outputs": [
    {
     "name": "stdout",
     "output_type": "stream",
     "text": [
      "['disneyland', 'avengers', 2, 'how to train a dragon']\n"
     ]
    }
   ],
   "source": [
    "Movies_list1=[\"disneyland\",\"avengers\",2]\n",
    "Movies_list2=[\"how to train a dragon\"]\n",
    "\n",
    "Movies= Movies_list1+Movies_list2\n",
    "print(Movies)\n"
   ]
  },
  {
   "cell_type": "code",
   "execution_count": 8,
   "metadata": {},
   "outputs": [
    {
     "data": {
      "text/plain": [
       "['disneyland',\n",
       " 'avengers',\n",
       " 2,\n",
       " 'disneyland',\n",
       " 'avengers',\n",
       " 2,\n",
       " 'disneyland',\n",
       " 'avengers',\n",
       " 2]"
      ]
     },
     "execution_count": 8,
     "metadata": {},
     "output_type": "execute_result"
    }
   ],
   "source": [
    "Movies_list1*3\n",
    "#Core Python programming :Nageswara Rao"
   ]
  },
  {
   "cell_type": "code",
   "execution_count": 11,
   "metadata": {},
   "outputs": [
    {
     "name": "stdout",
     "output_type": "stream",
     "text": [
      "['disneyland', 'Heraferi', 2]\n",
      "['disneyland', 'Hera', 2]\n"
     ]
    }
   ],
   "source": [
    "print(Movies_list1)\n",
    "Movies_list1[1]='Hera'\n",
    "print(Movies_list1)"
   ]
  },
  {
   "cell_type": "markdown",
   "metadata": {},
   "source": [
    "## Dictionary\n",
    "\n",
    "It is a python object with **index**. The bracket for tuple is round bracket, for list it is square bracket, for dict, it is curley racket\n",
    "\n",
    "It can created using a tuple as well as using a list"
   ]
  },
  {
   "cell_type": "code",
   "execution_count": 13,
   "metadata": {},
   "outputs": [
    {
     "name": "stdout",
     "output_type": "stream",
     "text": [
      "<class 'dict'>\n"
     ]
    },
    {
     "data": {
      "text/plain": [
       "{'Animated Movies': ('how to train a dragon', 'racket'),\n",
       " 'Action Movies': ('Avengers', 'ABCD', 123)}"
      ]
     },
     "execution_count": 13,
     "metadata": {},
     "output_type": "execute_result"
    }
   ],
   "source": [
    "Movie_top={\"Animated Movies\":(\"how to train a dragon\",\"racket\"),\"Action Movies\":(\"Avengers\",\"ABCD\",123)}\n",
    "print(type(Movie_top))\n",
    "Movie_top"
   ]
  },
  {
   "cell_type": "code",
   "execution_count": 14,
   "metadata": {},
   "outputs": [
    {
     "name": "stdout",
     "output_type": "stream",
     "text": [
      "<class 'dict'>\n",
      "<class 'tuple'>\n",
      "<class 'list'>\n"
     ]
    }
   ],
   "source": [
    "books={\"Science\":(\"ABCD\",\"EFGH\"),\"Math\":[\"python\",\"Statistics\"]}\n",
    "print(type(books))\n",
    "print(type(books[\"Science\"]))\n",
    "print(type(books[\"Math\"]))"
   ]
  },
  {
   "cell_type": "code",
   "execution_count": 16,
   "metadata": {},
   "outputs": [
    {
     "name": "stdout",
     "output_type": "stream",
     "text": [
      "<class 'dict'>\n",
      "<class 'list'>\n",
      "<class 'list'>\n"
     ]
    }
   ],
   "source": [
    "books={\"Science\":[\"ABCD\",\"EFGH\"],\"Math\":[\"python\",\"Statistics\"]}\n",
    "\n",
    "print(type(books))\n",
    "print(type(books[\"Science\"]))\n",
    "print(type(books[\"Math\"]))"
   ]
  },
  {
   "cell_type": "code",
   "execution_count": 17,
   "metadata": {},
   "outputs": [
    {
     "name": "stdout",
     "output_type": "stream",
     "text": [
      "<class 'dict'>\n"
     ]
    },
    {
     "data": {
      "text/plain": [
       "{'Animated Movies': ['how to train a dragon', 'racket'],\n",
       " 'Action Movies': ['Avengers', 'ABCD', 123]}"
      ]
     },
     "execution_count": 17,
     "metadata": {},
     "output_type": "execute_result"
    }
   ],
   "source": [
    "#creating a dict using a list\n",
    "Movie_list={\"Animated Movies\":[\"how to train a dragon\",\"racket\"],\"Action Movies\":[\"Avengers\",\"ABCD\",123]}\n",
    "print(type(Movie_list))\n",
    "Movie_list"
   ]
  },
  {
   "cell_type": "code",
   "execution_count": 19,
   "metadata": {},
   "outputs": [
    {
     "data": {
      "text/plain": [
       "['how to train a dragon', 'racket']"
      ]
     },
     "execution_count": 19,
     "metadata": {},
     "output_type": "execute_result"
    }
   ],
   "source": [
    "# Extraxting information from a dictionary using  index\n",
    "Movie_list[\"Animated Movies\"]"
   ]
  },
  {
   "cell_type": "code",
   "execution_count": 21,
   "metadata": {},
   "outputs": [
    {
     "data": {
      "text/plain": [
       "['how to train a dragon', 'racket']"
      ]
     },
     "execution_count": 21,
     "metadata": {},
     "output_type": "execute_result"
    }
   ],
   "source": [
    "# Extract the elements from a dict using index\n",
    "Anim=Movie_list[\"Animated Movies\"]\n",
    "Anim"
   ]
  },
  {
   "cell_type": "code",
   "execution_count": 22,
   "metadata": {},
   "outputs": [
    {
     "name": "stdout",
     "output_type": "stream",
     "text": [
      "<class 'list'>\n"
     ]
    }
   ],
   "source": [
    "print(type(Anim))"
   ]
  },
  {
   "cell_type": "code",
   "execution_count": 23,
   "metadata": {},
   "outputs": [
    {
     "name": "stdout",
     "output_type": "stream",
     "text": [
      "('how to train a dragon', 'racket')\n",
      "<class 'tuple'>\n"
     ]
    }
   ],
   "source": [
    "# Extract the elements from a dict using index\n",
    "Anim1=Movie_top[\"Animated Movies\"]\n",
    "print(Anim1)\n",
    "print(type(Anim1))"
   ]
  },
  {
   "cell_type": "code",
   "execution_count": 24,
   "metadata": {},
   "outputs": [
    {
     "name": "stdout",
     "output_type": "stream",
     "text": [
      "racket\n",
      "['how to train a dragon', 'racket', 'how to train a dragon', 'racket', 'how to train a dragon', 'racket']\n"
     ]
    }
   ],
   "source": [
    "print(Anim[1])\n",
    "print(Anim*3)"
   ]
  },
  {
   "cell_type": "code",
   "execution_count": 25,
   "metadata": {},
   "outputs": [
    {
     "name": "stdout",
     "output_type": "stream",
     "text": [
      "['how to train a dragon', 'racket']\n"
     ]
    }
   ],
   "source": [
    "# Extract values from a dictionary using one line code\n",
    "Anim=Movie_list[\"Animated Movies\"][:]\n",
    "print(Anim)"
   ]
  },
  {
   "cell_type": "code",
   "execution_count": 26,
   "metadata": {},
   "outputs": [
    {
     "data": {
      "text/plain": [
       "['ABCD']"
      ]
     },
     "execution_count": 26,
     "metadata": {},
     "output_type": "execute_result"
    }
   ],
   "source": [
    "Movie_list[\"Action Movies\"][1:2]"
   ]
  },
  {
   "cell_type": "code",
   "execution_count": 27,
   "metadata": {},
   "outputs": [
    {
     "name": "stdout",
     "output_type": "stream",
     "text": [
      "{'Student Names': ['Hari', 'James', 'Ravi'], 'Age': [12, 15, 13], 'Distance': [10, 12, 0.5]}\n",
      "<class 'dict'>\n"
     ]
    }
   ],
   "source": [
    "Student_list={\"Student Names\":[\"Hari\",\"James\",\"Ravi\"],\"Age\":[12,15,13],\"Distance\":[10,12,0.5]}\n",
    "print(Student_list)\n",
    "print(type(Student_list))"
   ]
  },
  {
   "cell_type": "code",
   "execution_count": 28,
   "metadata": {},
   "outputs": [
    {
     "name": "stdout",
     "output_type": "stream",
     "text": [
      "<class 'dict'>\n",
      "<class 'list'>\n",
      "['Hari', 'James', 'Ravi']\n"
     ]
    }
   ],
   "source": [
    "# Extract all the students in the class ( using the index of the dictionary) , here the \"Student Names\" is the first index\n",
    "New_list=Student_list['Student Names']\n",
    "print(type(Student_list))\n",
    "print(type(New_list))\n",
    "print(New_list)"
   ]
  },
  {
   "cell_type": "code",
   "execution_count": 29,
   "metadata": {},
   "outputs": [
    {
     "data": {
      "text/plain": [
       "'Hari'"
      ]
     },
     "execution_count": 29,
     "metadata": {},
     "output_type": "execute_result"
    }
   ],
   "source": [
    "# Extract the first element of the new list\n",
    "New_list[0]"
   ]
  },
  {
   "cell_type": "code",
   "execution_count": 30,
   "metadata": {},
   "outputs": [
    {
     "data": {
      "text/plain": [
       "'Ravi'"
      ]
     },
     "execution_count": 30,
     "metadata": {},
     "output_type": "execute_result"
    }
   ],
   "source": [
    "# Extract the 1st name from the list\n",
    "Student_list[\"Student Names\"][-1]"
   ]
  },
  {
   "cell_type": "code",
   "execution_count": 32,
   "metadata": {},
   "outputs": [
    {
     "name": "stdout",
     "output_type": "stream",
     "text": [
      " Age of Hari is 12\n"
     ]
    }
   ],
   "source": [
    "print(\" Age of Hari is\", Student_list['Age'][0] ) "
   ]
  },
  {
   "cell_type": "code",
   "execution_count": 34,
   "metadata": {},
   "outputs": [
    {
     "name": "stdout",
     "output_type": "stream",
     "text": [
      "Student Names\n",
      "Age\n",
      "Distance\n"
     ]
    }
   ],
   "source": [
    "# Get all the index in a dictionary\n",
    "\n",
    "for x in Student_list:\n",
    "    print(x)\n"
   ]
  },
  {
   "cell_type": "code",
   "execution_count": 35,
   "metadata": {},
   "outputs": [
    {
     "data": {
      "text/plain": [
       "['Hari', 'James', 'Ravi']"
      ]
     },
     "execution_count": 35,
     "metadata": {},
     "output_type": "execute_result"
    }
   ],
   "source": [
    "Student_list['Student Names']"
   ]
  },
  {
   "cell_type": "code",
   "execution_count": 36,
   "metadata": {},
   "outputs": [
    {
     "data": {
      "text/plain": [
       "[12, 15, 13]"
      ]
     },
     "execution_count": 36,
     "metadata": {},
     "output_type": "execute_result"
    }
   ],
   "source": [
    "Student_list['Age']"
   ]
  },
  {
   "cell_type": "code",
   "execution_count": 37,
   "metadata": {},
   "outputs": [
    {
     "data": {
      "text/plain": [
       "[10, 12, 0.5]"
      ]
     },
     "execution_count": 37,
     "metadata": {},
     "output_type": "execute_result"
    }
   ],
   "source": [
    "Student_list['Distance']"
   ]
  },
  {
   "cell_type": "markdown",
   "metadata": {},
   "source": [
    "\n",
    "# Python Loops\n",
    "Python has two primitive loop commands:\n",
    "\n",
    "while loops\n",
    "\n",
    "for loops\n",
    "****"
   ]
  },
  {
   "cell_type": "code",
   "execution_count": 38,
   "metadata": {},
   "outputs": [
    {
     "name": "stdout",
     "output_type": "stream",
     "text": [
      "1\n",
      "2\n",
      "3\n"
     ]
    }
   ],
   "source": [
    "i = 1\n",
    "while i < 6:\n",
    "  print(i)\n",
    "  if i == 3:\n",
    "    break\n",
    "  i += 1"
   ]
  },
  {
   "cell_type": "code",
   "execution_count": 39,
   "metadata": {},
   "outputs": [
    {
     "name": "stdout",
     "output_type": "stream",
     "text": [
      "1\n",
      "2\n",
      "3\n",
      "4\n",
      "5\n"
     ]
    }
   ],
   "source": [
    "i = 1\n",
    "while i < 6:\n",
    "  print(i)\n",
    "\n",
    "  i += 1"
   ]
  },
  {
   "cell_type": "code",
   "execution_count": 71,
   "metadata": {},
   "outputs": [
    {
     "name": "stdout",
     "output_type": "stream",
     "text": [
      "1\n",
      "2\n",
      "3\n"
     ]
    }
   ],
   "source": [
    "i = 0\n",
    "while i < 6:\n",
    "  i += 1 \n",
    "  if i > 3:\n",
    "    continue\n",
    "  print(i)"
   ]
  },
  {
   "cell_type": "code",
   "execution_count": 72,
   "metadata": {},
   "outputs": [
    {
     "name": "stdout",
     "output_type": "stream",
     "text": [
      "apple\n",
      "banana\n",
      "cherry\n"
     ]
    }
   ],
   "source": [
    "fruits = [\"apple\", \"banana\", \"cherry\"]\n",
    "for x in fruits:\n",
    "  print(x)"
   ]
  },
  {
   "cell_type": "markdown",
   "metadata": {},
   "source": [
    "## Python Functions\n",
    "**********************************"
   ]
  },
  {
   "cell_type": "markdown",
   "metadata": {},
   "source": [
    "## Math Function"
   ]
  },
  {
   "cell_type": "code",
   "execution_count": 41,
   "metadata": {},
   "outputs": [],
   "source": [
    "# Dir(math) would print list of functions or utilities of the math directory\n",
    "\n",
    "import math\n",
    "from math import floor\n",
    "from math import sqrt\n",
    "from math import sin\n",
    "from math import exp"
   ]
  },
  {
   "cell_type": "code",
   "execution_count": 42,
   "metadata": {},
   "outputs": [
    {
     "data": {
      "text/plain": [
       "['__doc__',\n",
       " '__file__',\n",
       " '__loader__',\n",
       " '__name__',\n",
       " '__package__',\n",
       " '__spec__',\n",
       " 'acos',\n",
       " 'acosh',\n",
       " 'asin',\n",
       " 'asinh',\n",
       " 'atan',\n",
       " 'atan2',\n",
       " 'atanh',\n",
       " 'ceil',\n",
       " 'copysign',\n",
       " 'cos',\n",
       " 'cosh',\n",
       " 'degrees',\n",
       " 'e',\n",
       " 'erf',\n",
       " 'erfc',\n",
       " 'exp',\n",
       " 'expm1',\n",
       " 'fabs',\n",
       " 'factorial',\n",
       " 'floor',\n",
       " 'fmod',\n",
       " 'frexp',\n",
       " 'fsum',\n",
       " 'gamma',\n",
       " 'gcd',\n",
       " 'hypot',\n",
       " 'inf',\n",
       " 'isclose',\n",
       " 'isfinite',\n",
       " 'isinf',\n",
       " 'isnan',\n",
       " 'ldexp',\n",
       " 'lgamma',\n",
       " 'log',\n",
       " 'log10',\n",
       " 'log1p',\n",
       " 'log2',\n",
       " 'modf',\n",
       " 'nan',\n",
       " 'pi',\n",
       " 'pow',\n",
       " 'radians',\n",
       " 'remainder',\n",
       " 'sin',\n",
       " 'sinh',\n",
       " 'sqrt',\n",
       " 'tan',\n",
       " 'tanh',\n",
       " 'tau',\n",
       " 'trunc']"
      ]
     },
     "execution_count": 42,
     "metadata": {},
     "output_type": "execute_result"
    }
   ],
   "source": [
    "dir(math)"
   ]
  },
  {
   "cell_type": "code",
   "execution_count": 44,
   "metadata": {},
   "outputs": [
    {
     "name": "stdout",
     "output_type": "stream",
     "text": [
      "2.0\n",
      "4\n",
      "5\n",
      "54.598150033144236\n"
     ]
    }
   ],
   "source": [
    "print(sqrt(4))\n",
    "print(floor(4.4))\n",
    "print(math.ceil(4.5))\n",
    "print(exp(4))"
   ]
  },
  {
   "cell_type": "code",
   "execution_count": 47,
   "metadata": {},
   "outputs": [
    {
     "name": "stdout",
     "output_type": "stream",
     "text": [
      "Hello from a function\n"
     ]
    }
   ],
   "source": [
    "# User defined function without an argument\n",
    "def my_function(x,y):\n",
    "    \n",
    "    print(\"Hello\")\n",
    "    print(2)\n",
    "    print(\"value\")\n",
    "    def sum_user():\n",
    "        print(x+y)\n",
    "    sum_user()\n",
    "\n",
    "print(\"Hello from a function\")"
   ]
  },
  {
   "cell_type": "code",
   "execution_count": 48,
   "metadata": {},
   "outputs": [
    {
     "name": "stdout",
     "output_type": "stream",
     "text": [
      "Hello\n",
      "2\n",
      "value\n",
      "22\n"
     ]
    }
   ],
   "source": [
    "my_function(10,12)"
   ]
  },
  {
   "cell_type": "code",
   "execution_count": 49,
   "metadata": {},
   "outputs": [],
   "source": [
    "# Userdefined function with arguments\n",
    "def math_operations(x,y):\n",
    "    z=x*y\n",
    "    print(x+y)\n",
    "    print(z)\n",
    "    print(math.sqrt(x))\n",
    "    return z"
   ]
  },
  {
   "cell_type": "code",
   "execution_count": 50,
   "metadata": {},
   "outputs": [
    {
     "name": "stdout",
     "output_type": "stream",
     "text": [
      "18\n",
      "80\n",
      "2.8284271247461903\n"
     ]
    },
    {
     "data": {
      "text/plain": [
       "80"
      ]
     },
     "execution_count": 50,
     "metadata": {},
     "output_type": "execute_result"
    }
   ],
   "source": [
    "math_operations(8,10)"
   ]
  },
  {
   "cell_type": "code",
   "execution_count": 51,
   "metadata": {},
   "outputs": [
    {
     "name": "stdout",
     "output_type": "stream",
     "text": [
      "My name is Emil\n",
      "My name is Tobias\n",
      "My name is Linus\n"
     ]
    }
   ],
   "source": [
    "def my_function(fname):\n",
    "  print(\"My name is \" + fname)\n",
    "\n",
    "my_function(\"Emil\")\n",
    "my_function(\"Tobias\")\n",
    "my_function(\"Linus\")"
   ]
  },
  {
   "cell_type": "code",
   "execution_count": 52,
   "metadata": {},
   "outputs": [
    {
     "data": {
      "text/plain": [
       "6"
      ]
     },
     "execution_count": 52,
     "metadata": {},
     "output_type": "execute_result"
    }
   ],
   "source": [
    "max(4,5,6)"
   ]
  },
  {
   "cell_type": "code",
   "execution_count": 53,
   "metadata": {},
   "outputs": [
    {
     "data": {
      "text/plain": [
       "4"
      ]
     },
     "execution_count": 53,
     "metadata": {},
     "output_type": "execute_result"
    }
   ],
   "source": [
    "min(4,5)"
   ]
  },
  {
   "cell_type": "code",
   "execution_count": 54,
   "metadata": {},
   "outputs": [],
   "source": [
    "def hello():\n",
    "  print(\"Hello World\") \n",
    "\n",
    "  return(\"hello\")"
   ]
  },
  {
   "cell_type": "markdown",
   "metadata": {},
   "source": [
    "### List Comprehensions"
   ]
  },
  {
   "cell_type": "code",
   "execution_count": 59,
   "metadata": {},
   "outputs": [],
   "source": [
    "marks=[12,23,44,56,78,23,45,89]\n",
    "even=[p for p in marks if p %2 ==0]"
   ]
  },
  {
   "cell_type": "code",
   "execution_count": 60,
   "metadata": {},
   "outputs": [
    {
     "data": {
      "text/plain": [
       "[12, 44, 56, 78]"
      ]
     },
     "execution_count": 60,
     "metadata": {},
     "output_type": "execute_result"
    }
   ],
   "source": [
    "even"
   ]
  },
  {
   "cell_type": "code",
   "execution_count": 61,
   "metadata": {},
   "outputs": [
    {
     "data": {
      "text/plain": [
       "[24, 88, 112, 156]"
      ]
     },
     "execution_count": 61,
     "metadata": {},
     "output_type": "execute_result"
    }
   ],
   "source": [
    "even=[p*2 for p in marks if p %2 ==0]\n",
    "even"
   ]
  },
  {
   "cell_type": "code",
   "execution_count": 62,
   "metadata": {},
   "outputs": [
    {
     "name": "stdout",
     "output_type": "stream",
     "text": [
      "[(23, 529), (23, 529), (45, 2025), (89, 7921)]\n"
     ]
    }
   ],
   "source": [
    "odd_squares = [(k, k * k) for k in marks if k % 2 == 1]\n",
    "print(odd_squares)"
   ]
  },
  {
   "cell_type": "markdown",
   "metadata": {},
   "source": [
    "****\n",
    "## Exception Handling\n",
    "***"
   ]
  },
  {
   "cell_type": "markdown",
   "metadata": {},
   "source": [
    "Try and except\n",
    "The basic terminology and syntax used to handle errors in Python is the try and except statements. \n",
    "The code which can cause an exception to occue is put in the try block and the handling of the exception is the implemented in the except block of code.\n",
    " \n",
    "   ****\n",
    "\n",
    "We can also just check for any exception with just using except: To get a better understanding of all this lets check out an example: We will look at some code that opens and writes a file:"
   ]
  },
  {
   "cell_type": "code",
   "execution_count": 63,
   "metadata": {},
   "outputs": [
    {
     "name": "stdout",
     "output_type": "stream",
     "text": [
      "divided by zero\n",
      "executed when exception occurs\n",
      "finally block, always executed\n"
     ]
    }
   ],
   "source": [
    "try:\n",
    "    x=100/0\n",
    "except ZeroDivisionError:\n",
    "    print('divided by zero')\n",
    "    print('executed when exception occurs')\n",
    "else:\n",
    "    print('executed only when exception does not occur')\n",
    "finally:\n",
    "    print('finally block, always executed')"
   ]
  },
  {
   "cell_type": "markdown",
   "metadata": {},
   "source": [
    "## Modular Programming in Python"
   ]
  },
  {
   "cell_type": "code",
   "execution_count": 72,
   "metadata": {},
   "outputs": [
    {
     "name": "stdout",
     "output_type": "stream",
     "text": [
      "2\n"
     ]
    }
   ],
   "source": [
    "def double_the_number(num=1):\n",
    "    return num * 2\n",
    "\n",
    "print(double_the_number())"
   ]
  },
  {
   "cell_type": "code",
   "execution_count": 73,
   "metadata": {},
   "outputs": [
    {
     "name": "stdout",
     "output_type": "stream",
     "text": [
      "10\n"
     ]
    }
   ],
   "source": [
    "print(double_the_number(5))"
   ]
  },
  {
   "cell_type": "code",
   "execution_count": 74,
   "metadata": {},
   "outputs": [
    {
     "data": {
      "text/plain": [
       "60"
      ]
     },
     "execution_count": 74,
     "metadata": {},
     "output_type": "execute_result"
    }
   ],
   "source": [
    "double_the_number(30)"
   ]
  },
  {
   "cell_type": "code",
   "execution_count": 112,
   "metadata": {},
   "outputs": [
    {
     "name": "stdout",
     "output_type": "stream",
     "text": [
      "10\n"
     ]
    }
   ],
   "source": [
    "def double_the_number(num):\n",
    "    return num*2\n",
    "\n",
    "print(double_the_number(5))"
   ]
  },
  {
   "cell_type": "markdown",
   "metadata": {},
   "source": [
    "## Lambda Expression\n",
    "Efficient coding or oneline function creation"
   ]
  },
  {
   "cell_type": "code",
   "execution_count": 72,
   "metadata": {},
   "outputs": [
    {
     "data": {
      "text/plain": [
       "25"
      ]
     },
     "execution_count": 72,
     "metadata": {},
     "output_type": "execute_result"
    }
   ],
   "source": [
    "def square(num):\n",
    "    result = num**2\n",
    "    mul=num*5\n",
    "    return result\n",
    "\n",
    "square(5)"
   ]
  },
  {
   "cell_type": "code",
   "execution_count": 73,
   "metadata": {},
   "outputs": [
    {
     "data": {
      "text/plain": [
       "25"
      ]
     },
     "execution_count": 73,
     "metadata": {},
     "output_type": "execute_result"
    }
   ],
   "source": [
    "square= lambda num: num**2\n",
    "\n",
    "square(5)"
   ]
  },
  {
   "cell_type": "code",
   "execution_count": 74,
   "metadata": {},
   "outputs": [],
   "source": [
    "def add(x,y):\n",
    "    result=x+y\n",
    "    return result"
   ]
  },
  {
   "cell_type": "code",
   "execution_count": 75,
   "metadata": {},
   "outputs": [
    {
     "data": {
      "text/plain": [
       "11"
      ]
     },
     "execution_count": 75,
     "metadata": {},
     "output_type": "execute_result"
    }
   ],
   "source": [
    "add(5,6)"
   ]
  },
  {
   "cell_type": "code",
   "execution_count": 76,
   "metadata": {},
   "outputs": [
    {
     "name": "stdout",
     "output_type": "stream",
     "text": [
      "11\n"
     ]
    }
   ],
   "source": [
    "def add(x,y):\n",
    "   z=x+y\n",
    "   return z\n",
    "print(add(5,6))"
   ]
  },
  {
   "cell_type": "code",
   "execution_count": 77,
   "metadata": {},
   "outputs": [
    {
     "data": {
      "text/plain": [
       "9"
      ]
     },
     "execution_count": 77,
     "metadata": {},
     "output_type": "execute_result"
    }
   ],
   "source": [
    "add_lambda = lambda a,b: a+b\n",
    "add_lambda(4,5)"
   ]
  },
  {
   "cell_type": "code",
   "execution_count": 81,
   "metadata": {},
   "outputs": [
    {
     "name": "stdout",
     "output_type": "stream",
     "text": [
      "<class 'list'>\n"
     ]
    }
   ],
   "source": [
    "def fahrenheit(T):\n",
    "    return ((float(9)/5)*T + 32)\n",
    "def celsius(T):\n",
    "    return (float(5)/9)*(T-32)\n",
    "    \n",
    "temp = [0, 22.5, 40,100]\n",
    "print(type(temp))"
   ]
  },
  {
   "cell_type": "markdown",
   "metadata": {},
   "source": [
    "## Map()"
   ]
  },
  {
   "cell_type": "code",
   "execution_count": 90,
   "metadata": {},
   "outputs": [
    {
     "name": "stdout",
     "output_type": "stream",
     "text": [
      "[32.0, 72.5, 104.0, 212.0]\n"
     ]
    }
   ],
   "source": [
    "# Appliying a function on multiple arguments\n",
    "F_temps = map(fahrenheit, temp)\n",
    "\n",
    "#Show\n",
    "print(list(F_temps))"
   ]
  },
  {
   "cell_type": "code",
   "execution_count": 91,
   "metadata": {},
   "outputs": [
    {
     "data": {
      "text/plain": [
       "[0, 22.5, 40, 100]"
      ]
     },
     "execution_count": 91,
     "metadata": {},
     "output_type": "execute_result"
    }
   ],
   "source": [
    "temp"
   ]
  },
  {
   "cell_type": "code",
   "execution_count": 94,
   "metadata": {},
   "outputs": [
    {
     "data": {
      "text/plain": [
       "<map at 0x10d30a6d8>"
      ]
     },
     "execution_count": 94,
     "metadata": {},
     "output_type": "execute_result"
    }
   ],
   "source": [
    "# Convert back\n",
    "map(celsius, F_temps)\n"
   ]
  },
  {
   "cell_type": "code",
   "execution_count": 85,
   "metadata": {},
   "outputs": [
    {
     "data": {
      "text/plain": [
       "[0, 22.5, 40, 100]"
      ]
     },
     "execution_count": 85,
     "metadata": {},
     "output_type": "execute_result"
    }
   ],
   "source": [
    "temp"
   ]
  },
  {
   "cell_type": "code",
   "execution_count": 88,
   "metadata": {},
   "outputs": [],
   "source": [
    "\n",
    "a = [1,2,3,1]\n",
    "b = [0, 22.5, 40, 100]\n",
    "c = [9,10,11,12]"
   ]
  },
  {
   "cell_type": "code",
   "execution_count": 95,
   "metadata": {},
   "outputs": [
    {
     "name": "stdout",
     "output_type": "stream",
     "text": [
      "[-17.77777777777778, -5.277777777777778, 4.444444444444445, 37.77777777777778]\n"
     ]
    }
   ],
   "source": [
    "result=map(lambda x: (5.0/9)*(x - 32),b)\n",
    "print(list(result))"
   ]
  },
  {
   "cell_type": "markdown",
   "metadata": {},
   "source": [
    "Mail info@iadaanalytics.com for any question"
   ]
  }
 ],
 "metadata": {
  "kernelspec": {
   "display_name": "Python 3",
   "language": "python",
   "name": "python3"
  },
  "language_info": {
   "codemirror_mode": {
    "name": "ipython",
    "version": 3
   },
   "file_extension": ".py",
   "mimetype": "text/x-python",
   "name": "python",
   "nbconvert_exporter": "python",
   "pygments_lexer": "ipython3",
   "version": "3.7.3"
  }
 },
 "nbformat": 4,
 "nbformat_minor": 2
}
